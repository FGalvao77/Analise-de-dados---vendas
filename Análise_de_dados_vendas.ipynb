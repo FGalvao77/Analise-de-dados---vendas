{
  "nbformat": 4,
  "nbformat_minor": 0,
  "metadata": {
    "colab": {
      "name": "Análise de dados - vendas.ipynb",
      "provenance": [],
      "collapsed_sections": [],
      "authorship_tag": "ABX9TyMJ8zVDOtGCUldjjtpxu5Ou",
      "include_colab_link": true
    },
    "kernelspec": {
      "name": "python3",
      "display_name": "Python 3"
    },
    "language_info": {
      "name": "python"
    }
  },
  "cells": [
    {
      "cell_type": "markdown",
      "metadata": {
        "id": "view-in-github",
        "colab_type": "text"
      },
      "source": [
        "<a href=\"https://colab.research.google.com/github/FGalvao77/Analise-de-dados---vendas/blob/main/An%C3%A1lise_de_dados_vendas.ipynb\" target=\"_parent\"><img src=\"https://colab.research.google.com/assets/colab-badge.svg\" alt=\"Open In Colab\"/></a>"
      ]
    },
    {
      "cell_type": "markdown",
      "source": [
        "## **Análise de dados - vendas**\n",
        "---"
      ],
      "metadata": {
        "id": "jOqgTCIOdZY0"
      }
    },
    {
      "cell_type": "markdown",
      "source": [
        "Nesse _notebook_, o nosso desafio é analisar 6 planilhas de excel sobre vendas realizadas nos meses de janeiro, fevereiro, março, abril, maio e junho. E, identificar qual vendedor realizou vendas maior que `55.000` e, para posteriormente enviar um **SMS** para o meu telefone.\n",
        "\n",
        "❗**Obs:** para realizar o envio do **SMS** será necessário a instalação da biblioteca `twilio`."
      ],
      "metadata": {
        "id": "jkZLDN1JvY5U"
      }
    },
    {
      "cell_type": "markdown",
      "source": [
        "Para utilizar a `API` do _twilio_ é necessário realizar um cadastro gratuito na plataforma (site) para gerar as chaves de autenticação que será utilizadas para o envio do **SMS**.\n",
        "\n",
        "Link: https://www.twilio.com/docs/libraries/python\n",
        "\n"
      ],
      "metadata": {
        "id": "wOvodzC3y_04"
      }
    },
    {
      "cell_type": "markdown",
      "source": [
        "Instalando a biblioteca `twilio`."
      ],
      "metadata": {
        "id": "ZJmUssSrtDgO"
      }
    },
    {
      "cell_type": "code",
      "source": [
        "!pip install twilio"
      ],
      "metadata": {
        "colab": {
          "base_uri": "https://localhost:8080/"
        },
        "id": "1C6LLg0xdgv7",
        "outputId": "45bee7c6-b369-4762-adcc-99cf0e8b0373"
      },
      "execution_count": 2,
      "outputs": [
        {
          "output_type": "stream",
          "name": "stdout",
          "text": [
            "Collecting twilio\n",
            "  Downloading twilio-7.8.0-py2.py3-none-any.whl (1.4 MB)\n",
            "\u001b[K     |████████████████████████████████| 1.4 MB 5.1 MB/s \n",
            "\u001b[?25hRequirement already satisfied: pytz in /usr/local/lib/python3.7/dist-packages (from twilio) (2018.9)\n",
            "Requirement already satisfied: requests>=2.0.0 in /usr/local/lib/python3.7/dist-packages (from twilio) (2.23.0)\n",
            "Collecting PyJWT<3.0.0,>=2.0.0\n",
            "  Downloading PyJWT-2.3.0-py3-none-any.whl (16 kB)\n",
            "Requirement already satisfied: chardet<4,>=3.0.2 in /usr/local/lib/python3.7/dist-packages (from requests>=2.0.0->twilio) (3.0.4)\n",
            "Requirement already satisfied: urllib3!=1.25.0,!=1.25.1,<1.26,>=1.21.1 in /usr/local/lib/python3.7/dist-packages (from requests>=2.0.0->twilio) (1.24.3)\n",
            "Requirement already satisfied: idna<3,>=2.5 in /usr/local/lib/python3.7/dist-packages (from requests>=2.0.0->twilio) (2.10)\n",
            "Requirement already satisfied: certifi>=2017.4.17 in /usr/local/lib/python3.7/dist-packages (from requests>=2.0.0->twilio) (2021.10.8)\n",
            "Installing collected packages: PyJWT, twilio\n",
            "Successfully installed PyJWT-2.3.0 twilio-7.8.0\n"
          ]
        }
      ]
    },
    {
      "cell_type": "code",
      "execution_count": 8,
      "metadata": {
        "id": "shfdXFFkdLtv"
      },
      "outputs": [],
      "source": [
        "# importando a biblioteca \"pandas\" e a função \"Client\" da biblioteca \"twilio\"\n",
        "import pandas as pd                 # para análise e manipulação de dados\n",
        "from twilio.rest import Client      # para habilitar o envio do SMS"
      ]
    },
    {
      "cell_type": "code",
      "source": [
        "# abrindo e visualizando a planilha do mês de janeiro e suas 5 primeiras linhas\n",
        "planilhaVendas_JAN = pd.read_excel('janeiro.xlsx')\n",
        "print(f'\\n{planilhaVendas_JAN.head()}')"
      ],
      "metadata": {
        "colab": {
          "base_uri": "https://localhost:8080/"
        },
        "id": "wD05bMaDemEb",
        "outputId": "73676c79-c017-493b-8983-5dcddd0c0684"
      },
      "execution_count": 9,
      "outputs": [
        {
          "output_type": "stream",
          "name": "stdout",
          "text": [
            "\n",
            "   Vendedor  Vendas\n",
            "0     Maria   41006\n",
            "1  Giuseppe   38162\n",
            "2      Anna   24992\n",
            "3  Giovanni   30826\n",
            "4   Antonio   22208\n"
          ]
        }
      ]
    },
    {
      "cell_type": "code",
      "source": [
        "# instanciando uma lista com nome dos meses\n",
        "lista_meses = ['janeiro', 'fevereiro', 'março',\n",
        "               'abril', 'maio', 'junho']\n",
        "\n",
        "lista_meses"
      ],
      "metadata": {
        "colab": {
          "base_uri": "https://localhost:8080/"
        },
        "id": "lNAH3SwUdgs-",
        "outputId": "04cc7f51-54e4-43eb-8797-2f910b90d439"
      },
      "execution_count": 10,
      "outputs": [
        {
          "output_type": "execute_result",
          "data": {
            "text/plain": [
              "['janeiro', 'fevereiro', 'março', 'abril', 'maio', 'junho']"
            ]
          },
          "metadata": {},
          "execution_count": 10
        }
      ]
    },
    {
      "cell_type": "code",
      "source": [
        "# realizando um laço de repetição para abrir as planilhas dos meses\n",
        "for mes in lista_meses:\n",
        "    # print(mes)\n",
        "    planilhasVendas_SEMESTRE = pd.read_excel(f'{mes}.xlsx')\n",
        "    print(planilhasVendas_SEMESTRE, sep='\\n')"
      ],
      "metadata": {
        "colab": {
          "base_uri": "https://localhost:8080/"
        },
        "id": "BBww9cCjsLL_",
        "outputId": "177d46bd-2e6c-4775-fb94-612b4b1a035c"
      },
      "execution_count": 14,
      "outputs": [
        {
          "output_type": "stream",
          "name": "stdout",
          "text": [
            "      Vendedor  Vendas\n",
            "0        Maria   41006\n",
            "1     Giuseppe   38162\n",
            "2         Anna   24992\n",
            "3     Giovanni   30826\n",
            "4      Antonio   22208\n",
            "..         ...     ...\n",
            "995     Glauco   26294\n",
            "996      Georg   30144\n",
            "997     Tullia   36002\n",
            "998  Pancrazio   31030\n",
            "999        Gio   37629\n",
            "\n",
            "[1000 rows x 2 columns]\n",
            "      Vendedor  Vendas\n",
            "0        Maria   25193\n",
            "1     Giuseppe   27174\n",
            "2         Anna   34971\n",
            "3     Giovanni   17164\n",
            "4      Antonio   22807\n",
            "..         ...     ...\n",
            "995     Glauco   27516\n",
            "996      Georg   49195\n",
            "997     Tullia   33760\n",
            "998  Pancrazio   49937\n",
            "999        Gio   38870\n",
            "\n",
            "[1000 rows x 2 columns]\n",
            "      Vendedor  Vendas\n",
            "0        Maria   22876\n",
            "1     Giuseppe   31953\n",
            "2         Anna   17180\n",
            "3     Giovanni   32777\n",
            "4      Antonio   39083\n",
            "..         ...     ...\n",
            "995     Glauco   26581\n",
            "996      Georg   22899\n",
            "997     Tullia   19810\n",
            "998  Pancrazio   37649\n",
            "999        Gio   23864\n",
            "\n",
            "[1000 rows x 2 columns]\n",
            "      Vendedor  Vendas\n",
            "0        Maria   18662\n",
            "1     Giuseppe   28843\n",
            "2         Anna   23288\n",
            "3     Giovanni   28157\n",
            "4      Antonio   48740\n",
            "..         ...     ...\n",
            "995     Glauco   39915\n",
            "996      Georg   37902\n",
            "997     Tullia   46760\n",
            "998  Pancrazio   31245\n",
            "999        Gio   37739\n",
            "\n",
            "[1000 rows x 2 columns]\n",
            "      Vendedor  Vendas\n",
            "0        Maria   41006\n",
            "1     Giuseppe   38162\n",
            "2         Anna   24992\n",
            "3     Giovanni   30826\n",
            "4      Antonio   22208\n",
            "..         ...     ...\n",
            "995     Glauco   26294\n",
            "996      Georg   30144\n",
            "997     Tullia   36002\n",
            "998  Pancrazio   31030\n",
            "999        Gio   37629\n",
            "\n",
            "[1000 rows x 2 columns]\n",
            "      Vendedor  Vendas\n",
            "0        Maria   48539\n",
            "1     Giuseppe   27292\n",
            "2         Anna   45813\n",
            "3     Giovanni   17049\n",
            "4      Antonio   15988\n",
            "..         ...     ...\n",
            "995     Glauco   15842\n",
            "996      Georg   37695\n",
            "997     Tullia   42438\n",
            "998  Pancrazio   35274\n",
            "999        Gio   47662\n",
            "\n",
            "[1000 rows x 2 columns]\n"
          ]
        }
      ]
    },
    {
      "cell_type": "code",
      "source": [
        "# utilizando a biblioteca \"twilio\" para enviar o SMS\n",
        "# Your Account SID from twilio.com/console | O SID da sua conta em twilio.com/console\n",
        "account_sid = \"AC423c28335ae82a2032847960dcaac791\"\n",
        "# Your Auth Token from twilio.com/console | Seu token de autenticação em twilio.com/console\n",
        "auth_token  = \"your_auth_token\"\n",
        "\n",
        "# instanciando o objeto \"client\"\n",
        "client = Client(account_sid, auth_token)"
      ],
      "metadata": {
        "id": "k1LQo38Jdgt4"
      },
      "execution_count": 15,
      "outputs": []
    },
    {
      "cell_type": "code",
      "source": [
        "# realizando um laço de repetição para abrir as planilhas dos meses\n",
        "for mes in lista_meses:\n",
        "    # print(mes)\n",
        "    planilhasVendas_SEMESTRE = pd.read_excel(f'{mes}.xlsx')\n",
        "    # print(planilhasVendas_SEMESTRE, sep='\\n')\n",
        "\n",
        "    if (planilhasVendas_SEMESTRE['Vendas'] > 55_000).any():\n",
        "        vendedor = planilhasVendas_SEMESTRE.loc[(planilhasVendas_SEMESTRE['Vendas'] > 55_000), 'Vendedor'].values[0]\n",
        "        vendas = planilhasVendas_SEMESTRE.loc[(planilhasVendas_SEMESTRE['Vendas'] > 55_000), 'Vendas'].values[0]\n",
        "        print(f'No mês de \"{mes}\" o vendedor \"{vendedor}\" obteve o valor de \"R$ {vendas}\" em vendas!')\n",
        "\n",
        "        # gerando e enviando a mensagem SMS para seu telefone\n",
        "        message = client.messages.create(\n",
        "            to=\"+55xxxxxxxxxx\",    # instanciar seu número de telefone\n",
        "            from_=\"+xxxxxxxxxxx\",   # instanciar o seu número do \"telefone\" gerado pelo \"twilio\"\n",
        "            body=f'\\nNo mês de \"{mes}\" o vendedor \"{vendedor}\" obteve o valor de \"R$ {vendas}\" em vendas!')\n",
        "        print(message.sid)  # resposta do envio do SMS"
      ],
      "metadata": {
        "colab": {
          "base_uri": "https://localhost:8080/"
        },
        "id": "LR-K1zXSsLHq",
        "outputId": "11df4ec4-1b13-49a4-aef4-b460da72a5ed"
      },
      "execution_count": 17,
      "outputs": [
        {
          "output_type": "stream",
          "name": "stdout",
          "text": [
            "No mês de \"maio\" o vendedor \"Hash\" obteve o valor de \"R$ 57312\" em vendas!\n",
            "SM3c3867cfa500487b87a2c64c7f9e7ce6\n"
          ]
        }
      ]
    },
    {
      "cell_type": "markdown",
      "source": [
        "Instalando a biblioteca `info` para visualizar a versão das bibliotecas/funções utilizadas nesse _notebook_."
      ],
      "metadata": {
        "id": "mmznLgRAyHLs"
      }
    },
    {
      "cell_type": "code",
      "source": [
        "!pip install session_info"
      ],
      "metadata": {
        "colab": {
          "base_uri": "https://localhost:8080/"
        },
        "id": "s7hwfVG9sLEF",
        "outputId": "e40ea38c-b86b-49b2-d60a-33bf9d8e5896"
      },
      "execution_count": 18,
      "outputs": [
        {
          "output_type": "stream",
          "name": "stdout",
          "text": [
            "Collecting session_info\n",
            "  Downloading session_info-1.0.0.tar.gz (24 kB)\n",
            "Collecting stdlib_list\n",
            "  Downloading stdlib_list-0.8.0-py3-none-any.whl (63 kB)\n",
            "\u001b[K     |████████████████████████████████| 63 kB 1.7 MB/s \n",
            "\u001b[?25hBuilding wheels for collected packages: session-info\n",
            "  Building wheel for session-info (setup.py) ... \u001b[?25l\u001b[?25hdone\n",
            "  Created wheel for session-info: filename=session_info-1.0.0-py3-none-any.whl size=8048 sha256=b74efc294959876bfbae36f6f1abf8aa9f0a0b90c0baddeaa47574b8facd1956\n",
            "  Stored in directory: /root/.cache/pip/wheels/bd/ad/14/6a42359351a18337a8683854cfbba99dd782271f2d1767f87f\n",
            "Successfully built session-info\n",
            "Installing collected packages: stdlib-list, session-info\n",
            "Successfully installed session-info-1.0.0 stdlib-list-0.8.0\n"
          ]
        }
      ]
    },
    {
      "cell_type": "code",
      "source": [
        "# importando a biblioteca\n",
        "import session_info\n",
        "\n",
        "# visualizando as versões das bibliotecas e/ou funções utilizadas no notebook\n",
        "session_info.show(html=False)"
      ],
      "metadata": {
        "colab": {
          "base_uri": "https://localhost:8080/"
        },
        "id": "c08cDULRsK4m",
        "outputId": "8172ae7e-b376-4fc4-8d4a-aa08dee50b2e"
      },
      "execution_count": 19,
      "outputs": [
        {
          "output_type": "stream",
          "name": "stdout",
          "text": [
            "-----\n",
            "pandas              1.3.5\n",
            "session_info        1.0.0\n",
            "twilio              7.8.0\n",
            "-----\n",
            "IPython             5.5.0\n",
            "jupyter_client      5.3.5\n",
            "jupyter_core        4.9.2\n",
            "notebook            5.3.1\n",
            "-----\n",
            "Python 3.7.13 (default, Mar 16 2022, 17:37:17) [GCC 7.5.0]\n",
            "Linux-5.4.144+-x86_64-with-Ubuntu-18.04-bionic\n",
            "-----\n",
            "Session information updated at 2022-03-25 15:54\n"
          ]
        }
      ]
    },
    {
      "cell_type": "code",
      "source": [
        ""
      ],
      "metadata": {
        "id": "-KQZOT_4dgoE"
      },
      "execution_count": null,
      "outputs": []
    }
  ]
}